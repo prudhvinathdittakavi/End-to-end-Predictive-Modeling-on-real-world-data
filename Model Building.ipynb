{
 "cells": [
  {
   "cell_type": "code",
   "execution_count": 3,
   "metadata": {
    "collapsed": true
   },
   "outputs": [],
   "source": [
    "# fore data manipulation\n",
    "import numpy as np\n",
    "import pandas as pd\n",
    "\n",
    "import sys\n",
    "\n",
    "# for visualization\n",
    "import matplotlib\n",
    "import matplotlib.pyplot as plt\n",
    "import seaborn as sns\n",
    "\n",
    "# to display plot in the notebook\n",
    "%matplotlib inline\n",
    "\n",
    "# for splitting data\n",
    "import sklearn\n",
    "from sklearn.model_selection import train_test_split"
   ]
  },
  {
   "cell_type": "code",
   "execution_count": 4,
   "metadata": {},
   "outputs": [
    {
     "name": "stdout",
     "output_type": "stream",
     "text": [
      "Numpy Version: 1.14.2\n",
      "Pandas Version: 0.20.3\n",
      "Matplotlib Version: 2.1.0\n",
      "seaborn Version: 0.8.0\n",
      "sklearn Version: 0.19.1\n",
      "Python: 3.6.3 |Anaconda custom (64-bit)| (default, Oct 15 2017, 03:27:45) [MSC v.1900 64 bit (AMD64)]\n"
     ]
    }
   ],
   "source": [
    "# checking the versions of the libraries\n",
    "libraries = [['Numpy', np],['Pandas', pd],['Matplotlib', matplotlib],['seaborn', sns],['sklearn', sklearn]]\n",
    "for i in libraries:\n",
    "    print('{0} Version: {1}'.format(i[0], i[1].__version__))\n",
    "print(\"Python:\", sys.version)"
   ]
  },
  {
   "cell_type": "code",
   "execution_count": 40,
   "metadata": {},
   "outputs": [],
   "source": [
    "# reading the test and train data\n",
    "\n",
    "X_train = pd.read_csv('X_train.csv' , encoding='ISO-8859-1')\n",
    "y_train = pd.read_csv('y_train.csv', encoding='ISO-8859-1', header=None)\n",
    "X_test = pd.read_csv('X_test.csv', encoding='ISO-8859-1')\n",
    "y_test = pd.read_csv('y_test.csv', encoding='ISO-8859-1', header=None)"
   ]
  },
  {
   "cell_type": "code",
   "execution_count": 41,
   "metadata": {},
   "outputs": [
    {
     "name": "stdout",
     "output_type": "stream",
     "text": [
      "(7568, 143)\n",
      "(7568, 1)\n"
     ]
    },
    {
     "data": {
      "text/html": [
       "<div>\n",
       "<style>\n",
       "    .dataframe thead tr:only-child th {\n",
       "        text-align: right;\n",
       "    }\n",
       "\n",
       "    .dataframe thead th {\n",
       "        text-align: left;\n",
       "    }\n",
       "\n",
       "    .dataframe tbody tr th {\n",
       "        vertical-align: top;\n",
       "    }\n",
       "</style>\n",
       "<table border=\"1\" class=\"dataframe\">\n",
       "  <thead>\n",
       "    <tr style=\"text-align: right;\">\n",
       "      <th></th>\n",
       "      <th>Order</th>\n",
       "      <th>Property Id</th>\n",
       "      <th>DOF Gross Floor Area</th>\n",
       "      <th>Year Built</th>\n",
       "      <th>Number of Buildings - Self-reported</th>\n",
       "      <th>Occupancy</th>\n",
       "      <th>Site EUI (kBtu/ft²)</th>\n",
       "      <th>Weather Normalized Site Electricity Intensity (kWh/ft²)</th>\n",
       "      <th>Weather Normalized Site Natural Gas Intensity (therms/ft²)</th>\n",
       "      <th>Natural Gas Use (kBtu)</th>\n",
       "      <th>...</th>\n",
       "      <th>Category__Office.2</th>\n",
       "      <th>Category__Other.1</th>\n",
       "      <th>Category__Others.2</th>\n",
       "      <th>Category__Residence Hall/Dormitory.1</th>\n",
       "      <th>Category__3</th>\n",
       "      <th>Category__4</th>\n",
       "      <th>Category__5</th>\n",
       "      <th>Category__6</th>\n",
       "      <th>Category__7</th>\n",
       "      <th>Category__Others.3</th>\n",
       "    </tr>\n",
       "  </thead>\n",
       "  <tbody>\n",
       "    <tr>\n",
       "      <th>0</th>\n",
       "      <td>4334</td>\n",
       "      <td>2669751</td>\n",
       "      <td>104000.0</td>\n",
       "      <td>1960</td>\n",
       "      <td>1</td>\n",
       "      <td>100</td>\n",
       "      <td>85.6</td>\n",
       "      <td>6.9</td>\n",
       "      <td>0.0</td>\n",
       "      <td>227600.0</td>\n",
       "      <td>...</td>\n",
       "      <td>0</td>\n",
       "      <td>0</td>\n",
       "      <td>0</td>\n",
       "      <td>0</td>\n",
       "      <td>0</td>\n",
       "      <td>0</td>\n",
       "      <td>1</td>\n",
       "      <td>0</td>\n",
       "      <td>0</td>\n",
       "      <td>0</td>\n",
       "    </tr>\n",
       "    <tr>\n",
       "      <th>1</th>\n",
       "      <td>870</td>\n",
       "      <td>2679476</td>\n",
       "      <td>136070.0</td>\n",
       "      <td>1963</td>\n",
       "      <td>1</td>\n",
       "      <td>100</td>\n",
       "      <td>91.1</td>\n",
       "      <td>5.4</td>\n",
       "      <td>NaN</td>\n",
       "      <td>NaN</td>\n",
       "      <td>...</td>\n",
       "      <td>0</td>\n",
       "      <td>0</td>\n",
       "      <td>0</td>\n",
       "      <td>0</td>\n",
       "      <td>0</td>\n",
       "      <td>0</td>\n",
       "      <td>1</td>\n",
       "      <td>0</td>\n",
       "      <td>0</td>\n",
       "      <td>0</td>\n",
       "    </tr>\n",
       "    <tr>\n",
       "      <th>2</th>\n",
       "      <td>6345</td>\n",
       "      <td>2787415</td>\n",
       "      <td>107106.0</td>\n",
       "      <td>1924</td>\n",
       "      <td>2</td>\n",
       "      <td>100</td>\n",
       "      <td>56.9</td>\n",
       "      <td>3.3</td>\n",
       "      <td>0.1</td>\n",
       "      <td>665384.9</td>\n",
       "      <td>...</td>\n",
       "      <td>0</td>\n",
       "      <td>0</td>\n",
       "      <td>0</td>\n",
       "      <td>0</td>\n",
       "      <td>0</td>\n",
       "      <td>1</td>\n",
       "      <td>0</td>\n",
       "      <td>0</td>\n",
       "      <td>0</td>\n",
       "      <td>0</td>\n",
       "    </tr>\n",
       "    <tr>\n",
       "      <th>3</th>\n",
       "      <td>9280</td>\n",
       "      <td>2658110</td>\n",
       "      <td>57786.0</td>\n",
       "      <td>1937</td>\n",
       "      <td>1</td>\n",
       "      <td>100</td>\n",
       "      <td>68.3</td>\n",
       "      <td>3.5</td>\n",
       "      <td>0.6</td>\n",
       "      <td>3379600.3</td>\n",
       "      <td>...</td>\n",
       "      <td>0</td>\n",
       "      <td>0</td>\n",
       "      <td>0</td>\n",
       "      <td>0</td>\n",
       "      <td>0</td>\n",
       "      <td>1</td>\n",
       "      <td>0</td>\n",
       "      <td>0</td>\n",
       "      <td>0</td>\n",
       "      <td>0</td>\n",
       "    </tr>\n",
       "    <tr>\n",
       "      <th>4</th>\n",
       "      <td>13011</td>\n",
       "      <td>5833061</td>\n",
       "      <td>74532.0</td>\n",
       "      <td>1931</td>\n",
       "      <td>1</td>\n",
       "      <td>100</td>\n",
       "      <td>14.6</td>\n",
       "      <td>3.1</td>\n",
       "      <td>NaN</td>\n",
       "      <td>NaN</td>\n",
       "      <td>...</td>\n",
       "      <td>0</td>\n",
       "      <td>0</td>\n",
       "      <td>0</td>\n",
       "      <td>0</td>\n",
       "      <td>0</td>\n",
       "      <td>1</td>\n",
       "      <td>0</td>\n",
       "      <td>0</td>\n",
       "      <td>0</td>\n",
       "      <td>0</td>\n",
       "    </tr>\n",
       "  </tbody>\n",
       "</table>\n",
       "<p>5 rows × 143 columns</p>\n",
       "</div>"
      ],
      "text/plain": [
       "   Order  Property Id  DOF Gross Floor Area  Year Built  \\\n",
       "0   4334      2669751              104000.0        1960   \n",
       "1    870      2679476              136070.0        1963   \n",
       "2   6345      2787415              107106.0        1924   \n",
       "3   9280      2658110               57786.0        1937   \n",
       "4  13011      5833061               74532.0        1931   \n",
       "\n",
       "   Number of Buildings - Self-reported  Occupancy  Site EUI (kBtu/ft²)  \\\n",
       "0                                    1        100                 85.6   \n",
       "1                                    1        100                 91.1   \n",
       "2                                    2        100                 56.9   \n",
       "3                                    1        100                 68.3   \n",
       "4                                    1        100                 14.6   \n",
       "\n",
       "   Weather Normalized Site Electricity Intensity (kWh/ft²)  \\\n",
       "0                                                6.9         \n",
       "1                                                5.4         \n",
       "2                                                3.3         \n",
       "3                                                3.5         \n",
       "4                                                3.1         \n",
       "\n",
       "   Weather Normalized Site Natural Gas Intensity (therms/ft²)  \\\n",
       "0                                                0.0            \n",
       "1                                                NaN            \n",
       "2                                                0.1            \n",
       "3                                                0.6            \n",
       "4                                                NaN            \n",
       "\n",
       "   Natural Gas Use (kBtu)         ...          Category__Office.2  \\\n",
       "0                227600.0         ...                           0   \n",
       "1                     NaN         ...                           0   \n",
       "2                665384.9         ...                           0   \n",
       "3               3379600.3         ...                           0   \n",
       "4                     NaN         ...                           0   \n",
       "\n",
       "   Category__Other.1  Category__Others.2  \\\n",
       "0                  0                   0   \n",
       "1                  0                   0   \n",
       "2                  0                   0   \n",
       "3                  0                   0   \n",
       "4                  0                   0   \n",
       "\n",
       "   Category__Residence Hall/Dormitory.1  Category__3  Category__4  \\\n",
       "0                                     0            0            0   \n",
       "1                                     0            0            0   \n",
       "2                                     0            0            1   \n",
       "3                                     0            0            1   \n",
       "4                                     0            0            1   \n",
       "\n",
       "   Category__5  Category__6  Category__7  Category__Others.3  \n",
       "0            1            0            0                   0  \n",
       "1            1            0            0                   0  \n",
       "2            0            0            0                   0  \n",
       "3            0            0            0                   0  \n",
       "4            0            0            0                   0  \n",
       "\n",
       "[5 rows x 143 columns]"
      ]
     },
     "execution_count": 41,
     "metadata": {},
     "output_type": "execute_result"
    }
   ],
   "source": [
    "print(X_train.shape)\n",
    "print(y_train.shape)\n",
    "\n",
    "X_train.head()"
   ]
  },
  {
   "cell_type": "code",
   "execution_count": 42,
   "metadata": {},
   "outputs": [
    {
     "data": {
      "text/html": [
       "<div>\n",
       "<style>\n",
       "    .dataframe thead tr:only-child th {\n",
       "        text-align: right;\n",
       "    }\n",
       "\n",
       "    .dataframe thead th {\n",
       "        text-align: left;\n",
       "    }\n",
       "\n",
       "    .dataframe tbody tr th {\n",
       "        vertical-align: top;\n",
       "    }\n",
       "</style>\n",
       "<table border=\"1\" class=\"dataframe\">\n",
       "  <thead>\n",
       "    <tr style=\"text-align: right;\">\n",
       "      <th></th>\n",
       "      <th>0</th>\n",
       "    </tr>\n",
       "  </thead>\n",
       "  <tbody>\n",
       "    <tr>\n",
       "      <th>0</th>\n",
       "      <td>35.0</td>\n",
       "    </tr>\n",
       "    <tr>\n",
       "      <th>1</th>\n",
       "      <td>37.0</td>\n",
       "    </tr>\n",
       "    <tr>\n",
       "      <th>2</th>\n",
       "      <td>98.0</td>\n",
       "    </tr>\n",
       "    <tr>\n",
       "      <th>3</th>\n",
       "      <td>99.0</td>\n",
       "    </tr>\n",
       "    <tr>\n",
       "      <th>4</th>\n",
       "      <td>100.0</td>\n",
       "    </tr>\n",
       "  </tbody>\n",
       "</table>\n",
       "</div>"
      ],
      "text/plain": [
       "       0\n",
       "0   35.0\n",
       "1   37.0\n",
       "2   98.0\n",
       "3   99.0\n",
       "4  100.0"
      ]
     },
     "execution_count": 42,
     "metadata": {},
     "output_type": "execute_result"
    }
   ],
   "source": [
    "y_train.head()"
   ]
  },
  {
   "cell_type": "code",
   "execution_count": 43,
   "metadata": {},
   "outputs": [
    {
     "name": "stdout",
     "output_type": "stream",
     "text": [
      "(1893, 143)\n",
      "(1893, 1)\n"
     ]
    },
    {
     "data": {
      "text/html": [
       "<div>\n",
       "<style>\n",
       "    .dataframe thead tr:only-child th {\n",
       "        text-align: right;\n",
       "    }\n",
       "\n",
       "    .dataframe thead th {\n",
       "        text-align: left;\n",
       "    }\n",
       "\n",
       "    .dataframe tbody tr th {\n",
       "        vertical-align: top;\n",
       "    }\n",
       "</style>\n",
       "<table border=\"1\" class=\"dataframe\">\n",
       "  <thead>\n",
       "    <tr style=\"text-align: right;\">\n",
       "      <th></th>\n",
       "      <th>Order</th>\n",
       "      <th>Property Id</th>\n",
       "      <th>DOF Gross Floor Area</th>\n",
       "      <th>Year Built</th>\n",
       "      <th>Number of Buildings - Self-reported</th>\n",
       "      <th>Occupancy</th>\n",
       "      <th>Site EUI (kBtu/ft²)</th>\n",
       "      <th>Weather Normalized Site Electricity Intensity (kWh/ft²)</th>\n",
       "      <th>Weather Normalized Site Natural Gas Intensity (therms/ft²)</th>\n",
       "      <th>Natural Gas Use (kBtu)</th>\n",
       "      <th>...</th>\n",
       "      <th>Category__Office.2</th>\n",
       "      <th>Category__Other.1</th>\n",
       "      <th>Category__Others.2</th>\n",
       "      <th>Category__Residence Hall/Dormitory.1</th>\n",
       "      <th>Category__3</th>\n",
       "      <th>Category__4</th>\n",
       "      <th>Category__5</th>\n",
       "      <th>Category__6</th>\n",
       "      <th>Category__7</th>\n",
       "      <th>Category__Others.3</th>\n",
       "    </tr>\n",
       "  </thead>\n",
       "  <tbody>\n",
       "    <tr>\n",
       "      <th>0</th>\n",
       "      <td>10220</td>\n",
       "      <td>5729364</td>\n",
       "      <td>123910.0</td>\n",
       "      <td>1988</td>\n",
       "      <td>6</td>\n",
       "      <td>100</td>\n",
       "      <td>106.8</td>\n",
       "      <td>8.3</td>\n",
       "      <td>0.9</td>\n",
       "      <td>9790569.3</td>\n",
       "      <td>...</td>\n",
       "      <td>0</td>\n",
       "      <td>0</td>\n",
       "      <td>0</td>\n",
       "      <td>0</td>\n",
       "      <td>0</td>\n",
       "      <td>1</td>\n",
       "      <td>0</td>\n",
       "      <td>0</td>\n",
       "      <td>0</td>\n",
       "      <td>0</td>\n",
       "    </tr>\n",
       "    <tr>\n",
       "      <th>1</th>\n",
       "      <td>12891</td>\n",
       "      <td>4954012</td>\n",
       "      <td>266316.0</td>\n",
       "      <td>1990</td>\n",
       "      <td>1</td>\n",
       "      <td>100</td>\n",
       "      <td>76.5</td>\n",
       "      <td>7.2</td>\n",
       "      <td>0.6</td>\n",
       "      <td>13466199.8</td>\n",
       "      <td>...</td>\n",
       "      <td>0</td>\n",
       "      <td>0</td>\n",
       "      <td>0</td>\n",
       "      <td>0</td>\n",
       "      <td>0</td>\n",
       "      <td>1</td>\n",
       "      <td>0</td>\n",
       "      <td>0</td>\n",
       "      <td>0</td>\n",
       "      <td>0</td>\n",
       "    </tr>\n",
       "    <tr>\n",
       "      <th>2</th>\n",
       "      <td>7434</td>\n",
       "      <td>3533538</td>\n",
       "      <td>54365.0</td>\n",
       "      <td>2012</td>\n",
       "      <td>1</td>\n",
       "      <td>100</td>\n",
       "      <td>68.4</td>\n",
       "      <td>7.5</td>\n",
       "      <td>0.5</td>\n",
       "      <td>2320206.6</td>\n",
       "      <td>...</td>\n",
       "      <td>0</td>\n",
       "      <td>0</td>\n",
       "      <td>0</td>\n",
       "      <td>0</td>\n",
       "      <td>1</td>\n",
       "      <td>0</td>\n",
       "      <td>0</td>\n",
       "      <td>0</td>\n",
       "      <td>0</td>\n",
       "      <td>0</td>\n",
       "    </tr>\n",
       "    <tr>\n",
       "      <th>3</th>\n",
       "      <td>9044</td>\n",
       "      <td>5832435</td>\n",
       "      <td>60720.0</td>\n",
       "      <td>1938</td>\n",
       "      <td>1</td>\n",
       "      <td>100</td>\n",
       "      <td>63.3</td>\n",
       "      <td>NaN</td>\n",
       "      <td>0.7</td>\n",
       "      <td>4164600.3</td>\n",
       "      <td>...</td>\n",
       "      <td>0</td>\n",
       "      <td>0</td>\n",
       "      <td>0</td>\n",
       "      <td>0</td>\n",
       "      <td>0</td>\n",
       "      <td>1</td>\n",
       "      <td>0</td>\n",
       "      <td>0</td>\n",
       "      <td>0</td>\n",
       "      <td>0</td>\n",
       "    </tr>\n",
       "    <tr>\n",
       "      <th>4</th>\n",
       "      <td>9336</td>\n",
       "      <td>2745630</td>\n",
       "      <td>140595.0</td>\n",
       "      <td>1940</td>\n",
       "      <td>1</td>\n",
       "      <td>100</td>\n",
       "      <td>68.1</td>\n",
       "      <td>4.0</td>\n",
       "      <td>0.5</td>\n",
       "      <td>7088100.3</td>\n",
       "      <td>...</td>\n",
       "      <td>0</td>\n",
       "      <td>0</td>\n",
       "      <td>0</td>\n",
       "      <td>0</td>\n",
       "      <td>0</td>\n",
       "      <td>1</td>\n",
       "      <td>0</td>\n",
       "      <td>0</td>\n",
       "      <td>0</td>\n",
       "      <td>0</td>\n",
       "    </tr>\n",
       "  </tbody>\n",
       "</table>\n",
       "<p>5 rows × 143 columns</p>\n",
       "</div>"
      ],
      "text/plain": [
       "   Order  Property Id  DOF Gross Floor Area  Year Built  \\\n",
       "0  10220      5729364              123910.0        1988   \n",
       "1  12891      4954012              266316.0        1990   \n",
       "2   7434      3533538               54365.0        2012   \n",
       "3   9044      5832435               60720.0        1938   \n",
       "4   9336      2745630              140595.0        1940   \n",
       "\n",
       "   Number of Buildings - Self-reported  Occupancy  Site EUI (kBtu/ft²)  \\\n",
       "0                                    6        100                106.8   \n",
       "1                                    1        100                 76.5   \n",
       "2                                    1        100                 68.4   \n",
       "3                                    1        100                 63.3   \n",
       "4                                    1        100                 68.1   \n",
       "\n",
       "   Weather Normalized Site Electricity Intensity (kWh/ft²)  \\\n",
       "0                                                8.3         \n",
       "1                                                7.2         \n",
       "2                                                7.5         \n",
       "3                                                NaN         \n",
       "4                                                4.0         \n",
       "\n",
       "   Weather Normalized Site Natural Gas Intensity (therms/ft²)  \\\n",
       "0                                                0.9            \n",
       "1                                                0.6            \n",
       "2                                                0.5            \n",
       "3                                                0.7            \n",
       "4                                                0.5            \n",
       "\n",
       "   Natural Gas Use (kBtu)         ...          Category__Office.2  \\\n",
       "0               9790569.3         ...                           0   \n",
       "1              13466199.8         ...                           0   \n",
       "2               2320206.6         ...                           0   \n",
       "3               4164600.3         ...                           0   \n",
       "4               7088100.3         ...                           0   \n",
       "\n",
       "   Category__Other.1  Category__Others.2  \\\n",
       "0                  0                   0   \n",
       "1                  0                   0   \n",
       "2                  0                   0   \n",
       "3                  0                   0   \n",
       "4                  0                   0   \n",
       "\n",
       "   Category__Residence Hall/Dormitory.1  Category__3  Category__4  \\\n",
       "0                                     0            0            1   \n",
       "1                                     0            0            1   \n",
       "2                                     0            1            0   \n",
       "3                                     0            0            1   \n",
       "4                                     0            0            1   \n",
       "\n",
       "   Category__5  Category__6  Category__7  Category__Others.3  \n",
       "0            0            0            0                   0  \n",
       "1            0            0            0                   0  \n",
       "2            0            0            0                   0  \n",
       "3            0            0            0                   0  \n",
       "4            0            0            0                   0  \n",
       "\n",
       "[5 rows x 143 columns]"
      ]
     },
     "execution_count": 43,
     "metadata": {},
     "output_type": "execute_result"
    }
   ],
   "source": [
    "print(X_test.shape)\n",
    "print(y_test.shape)\n",
    "\n",
    "X_test.head()"
   ]
  },
  {
   "cell_type": "markdown",
   "metadata": {},
   "source": [
    "## Imputing Missing Values"
   ]
  },
  {
   "cell_type": "code",
   "execution_count": 44,
   "metadata": {
    "collapsed": true
   },
   "outputs": [],
   "source": [
    "# statistics for the missing data \n",
    "def summary_of_missing_data(df):\n",
    "    \n",
    "    # null value count for each column\n",
    "    null_cols = df.isnull().sum()\n",
    "    \n",
    "    # % null values for each column\n",
    "    null_percent = df.isnull().sum()*100 / len(df)\n",
    "    \n",
    "    # result table\n",
    "    table = pd.concat([null_cols, null_percent], axis = 1)\n",
    "    \n",
    "    # column renaming\n",
    "    table.columns = ['Null value count', '% of null values']\n",
    "    \n",
    "    # removing columns with 0 null values\n",
    "    table = table[table['Null value count'] != 0]\n",
    "    \n",
    "    # Sorting values\n",
    "    table = table.sort_values(by = ['% of null values'], ascending = False)\n",
    "    \n",
    "    print('Number of columns with missing values {}'.format(table.shape[0]))\n",
    "    \n",
    "    return table"
   ]
  },
  {
   "cell_type": "code",
   "execution_count": 33,
   "metadata": {},
   "outputs": [
    {
     "name": "stdout",
     "output_type": "stream",
     "text": [
      "Number of columns with missing values 10\n"
     ]
    },
    {
     "data": {
      "text/html": [
       "<div>\n",
       "<style>\n",
       "    .dataframe thead tr:only-child th {\n",
       "        text-align: right;\n",
       "    }\n",
       "\n",
       "    .dataframe thead th {\n",
       "        text-align: left;\n",
       "    }\n",
       "\n",
       "    .dataframe tbody tr th {\n",
       "        vertical-align: top;\n",
       "    }\n",
       "</style>\n",
       "<table border=\"1\" class=\"dataframe\">\n",
       "  <thead>\n",
       "    <tr style=\"text-align: right;\">\n",
       "      <th></th>\n",
       "      <th>Null value count</th>\n",
       "      <th>% of null values</th>\n",
       "    </tr>\n",
       "  </thead>\n",
       "  <tbody>\n",
       "    <tr>\n",
       "      <th>Water Use (All Water Sources) (kgal)</th>\n",
       "      <td>2450</td>\n",
       "      <td>32.373150</td>\n",
       "    </tr>\n",
       "    <tr>\n",
       "      <th>Latitude</th>\n",
       "      <td>1444</td>\n",
       "      <td>19.080338</td>\n",
       "    </tr>\n",
       "    <tr>\n",
       "      <th>Longitude</th>\n",
       "      <td>1444</td>\n",
       "      <td>19.080338</td>\n",
       "    </tr>\n",
       "    <tr>\n",
       "      <th>Community Board</th>\n",
       "      <td>1444</td>\n",
       "      <td>19.080338</td>\n",
       "    </tr>\n",
       "    <tr>\n",
       "      <th>Census Tract</th>\n",
       "      <td>1444</td>\n",
       "      <td>19.080338</td>\n",
       "    </tr>\n",
       "    <tr>\n",
       "      <th>Weather Normalized Site Natural Gas Intensity (therms/ft²)</th>\n",
       "      <td>1114</td>\n",
       "      <td>14.719873</td>\n",
       "    </tr>\n",
       "    <tr>\n",
       "      <th>Natural Gas Use (kBtu)</th>\n",
       "      <td>794</td>\n",
       "      <td>10.491543</td>\n",
       "    </tr>\n",
       "    <tr>\n",
       "      <th>Weather Normalized Site Electricity Intensity (kWh/ft²)</th>\n",
       "      <td>382</td>\n",
       "      <td>5.047569</td>\n",
       "    </tr>\n",
       "    <tr>\n",
       "      <th>Electricity Use - Grid Purchase (kBtu)</th>\n",
       "      <td>62</td>\n",
       "      <td>0.819239</td>\n",
       "    </tr>\n",
       "    <tr>\n",
       "      <th>DOF Gross Floor Area</th>\n",
       "      <td>37</td>\n",
       "      <td>0.488901</td>\n",
       "    </tr>\n",
       "  </tbody>\n",
       "</table>\n",
       "</div>"
      ],
      "text/plain": [
       "                                                    Null value count  \\\n",
       "Water Use (All Water Sources) (kgal)                            2450   \n",
       "Latitude                                                        1444   \n",
       "Longitude                                                       1444   \n",
       "Community Board                                                 1444   \n",
       "Census Tract                                                    1444   \n",
       "Weather Normalized Site Natural Gas Intensity (...              1114   \n",
       "Natural Gas Use (kBtu)                                           794   \n",
       "Weather Normalized Site Electricity Intensity (...               382   \n",
       "Electricity Use - Grid Purchase (kBtu)                            62   \n",
       "DOF Gross Floor Area                                              37   \n",
       "\n",
       "                                                    % of null values  \n",
       "Water Use (All Water Sources) (kgal)                       32.373150  \n",
       "Latitude                                                   19.080338  \n",
       "Longitude                                                  19.080338  \n",
       "Community Board                                            19.080338  \n",
       "Census Tract                                               19.080338  \n",
       "Weather Normalized Site Natural Gas Intensity (...         14.719873  \n",
       "Natural Gas Use (kBtu)                                     10.491543  \n",
       "Weather Normalized Site Electricity Intensity (...          5.047569  \n",
       "Electricity Use - Grid Purchase (kBtu)                      0.819239  \n",
       "DOF Gross Floor Area                                        0.488901  "
      ]
     },
     "execution_count": 33,
     "metadata": {},
     "output_type": "execute_result"
    }
   ],
   "source": [
    "summary_of_missing_data(X_train)"
   ]
  },
  {
   "cell_type": "code",
   "execution_count": 45,
   "metadata": {
    "collapsed": true
   },
   "outputs": [],
   "source": [
    "# Imputing missing values and scaling values\n",
    "from sklearn.preprocessing import Imputer, MinMaxScaler\n",
    "\n",
    "imputer = Imputer(strategy = 'median')\n",
    "\n",
    "# training on train data\n",
    "imputer.fit(X_train)\n",
    "\n",
    "# transform on both test and train\n",
    "X_train = imputer.transform(X_train)\n",
    "X_test = imputer.transform(X_test)"
   ]
  },
  {
   "cell_type": "markdown",
   "metadata": {},
   "source": [
    "## Scaling of Features"
   ]
  },
  {
   "cell_type": "markdown",
   "metadata": {},
   "source": [
    "Scalling is not required for tree based models. But, it will be usefull when you are using models which depend on distance metrics such as KNN and SVM. and there is no harm if you use scaled data for tree based models also.\n"
   ]
  },
  {
   "cell_type": "code",
   "execution_count": 35,
   "metadata": {
    "collapsed": true
   },
   "outputs": [],
   "source": [
    "scaler = MinMaxScaler()\n",
    "\n",
    "# Fit on the training data\n",
    "scaler.fit(X_train)\n",
    "\n",
    "# Transform both the training and testing data\n",
    "X_train = scaler.transform(X_train)\n",
    "X_test = scaler.transform(X_test)"
   ]
  },
  {
   "cell_type": "code",
   "execution_count": 48,
   "metadata": {
    "collapsed": true
   },
   "outputs": [],
   "source": [
    "# convertion Y to 1-D array\n",
    "y_train = np.array(y_train).reshape((-1, ))\n",
    "y_test = np.array(y_test).reshape((-1, ))"
   ]
  },
  {
   "cell_type": "markdown",
   "metadata": {},
   "source": [
    "## Model Building"
   ]
  },
  {
   "cell_type": "code",
   "execution_count": 37,
   "metadata": {
    "collapsed": true
   },
   "outputs": [],
   "source": [
    "# function to build, predict and find mean abs error\n",
    "def mae(y_true, y_pred):\n",
    "    return np.mean(abs(y_true - y_pred))\n",
    "\n",
    "# fit and evaluate models\n",
    "def model_builder(model):\n",
    "    \n",
    "    # training the model\n",
    "    model.fit(X_train, y_train)\n",
    "    \n",
    "    # predict y\n",
    "    y_pred = model.predict(X_test)\n",
    "    \n",
    "    # mean abs error\n",
    "    MAE = mae(y_test, y_pred)\n",
    "    \n",
    "    return MAE\n",
    "    "
   ]
  },
  {
   "cell_type": "code",
   "execution_count": 70,
   "metadata": {
    "collapsed": true
   },
   "outputs": [],
   "source": [
    "# Machine Learning Models\n",
    "from sklearn.linear_model import LinearRegression\n",
    "from sklearn.linear_model import Lasso\n",
    "from sklearn.ensemble import RandomForestRegressor, GradientBoostingRegressor\n",
    "from sklearn.svm import SVR\n",
    "from sklearn.neighbors import KNeighborsRegressor\n",
    "from sklearn.ensemble import AdaBoostRegressor\n",
    "\n",
    "# Hyperparameter tuning\n",
    "from sklearn.model_selection import RandomizedSearchCV, GridSearchCV"
   ]
  },
  {
   "cell_type": "code",
   "execution_count": 78,
   "metadata": {},
   "outputs": [
    {
     "name": "stdout",
     "output_type": "stream",
     "text": [
      "LinearRegression MAE is 13.82972007955064\n"
     ]
    }
   ],
   "source": [
    "lr = LinearRegression()\n",
    "lr_mae = model_builder(lr)\n",
    "\n",
    "print('LinearRegression MAE is {}'.format(lr_mae))"
   ]
  },
  {
   "cell_type": "code",
   "execution_count": 52,
   "metadata": {},
   "outputs": [
    {
     "name": "stdout",
     "output_type": "stream",
     "text": [
      "SVM's MAE is 25.20905230855039\n"
     ]
    }
   ],
   "source": [
    "svm = SVR(C = 1000, gamma = 0.1)\n",
    "svm_mae = model_builder(svm)\n",
    "print(\"SVM's MAE is \" + str(svm_mae) )"
   ]
  },
  {
   "cell_type": "code",
   "execution_count": 54,
   "metadata": {},
   "outputs": [
    {
     "name": "stdout",
     "output_type": "stream",
     "text": [
      "RandomForestRegressor's MAE is 9.844690966719494\n"
     ]
    }
   ],
   "source": [
    "random_forest = RandomForestRegressor(random_state=0)\n",
    "random_forest_mae = model_builder(random_forest)\n",
    "\n",
    "print(\"RandomForestRegressor's MAE is \" + str(random_forest_mae) )"
   ]
  },
  {
   "cell_type": "code",
   "execution_count": 55,
   "metadata": {},
   "outputs": [
    {
     "name": "stdout",
     "output_type": "stream",
     "text": [
      "GradientBoostingRegressor's MAE is 9.748158061158941\n"
     ]
    }
   ],
   "source": [
    "gradient_boosted = GradientBoostingRegressor(random_state=60)\n",
    "gradient_boosted_mae = model_builder(gradient_boosted)\n",
    "\n",
    "print(\"GradientBoostingRegressor's MAE is \" + str(gradient_boosted_mae) )"
   ]
  },
  {
   "cell_type": "code",
   "execution_count": 65,
   "metadata": {},
   "outputs": [
    {
     "name": "stdout",
     "output_type": "stream",
     "text": [
      "KNeighborsRegressor's MAE is 22.54325145272055\n"
     ]
    }
   ],
   "source": [
    "knn = KNeighborsRegressor(n_neighbors=8)\n",
    "knn_mae = model_builder(knn)\n",
    "\n",
    "print(\"KNeighborsRegressor's MAE is \" + str(knn_mae) )"
   ]
  },
  {
   "cell_type": "code",
   "execution_count": 69,
   "metadata": {},
   "outputs": [
    {
     "name": "stdout",
     "output_type": "stream",
     "text": [
      "0.01 13.912180958621299\n",
      "0.1 14.105368569871763\n",
      "1 14.85187098260886\n",
      "10 15.456103843650135\n"
     ]
    }
   ],
   "source": [
    "# it is clear that applying regularization to the linear regression has no increase in MAE \n",
    "alpha = [0.01, 0.1, 1, 10]\n",
    "\n",
    "for i in alpha:\n",
    "    ls = Lasso(alpha = i)\n",
    "    ls_mae = model_builder(ls)\n",
    "    print(i, ls_mae)"
   ]
  },
  {
   "cell_type": "code",
   "execution_count": 74,
   "metadata": {},
   "outputs": [
    {
     "name": "stdout",
     "output_type": "stream",
     "text": [
      "Lasso's MAE is 13.912180958621299\n"
     ]
    }
   ],
   "source": [
    "ls = Lasso(alpha = 0.01)\n",
    "ls_mae = model_builder(ls)\n",
    "\n",
    "print(\"Lasso's MAE is \" + str(ls_mae) )"
   ]
  },
  {
   "cell_type": "code",
   "execution_count": 72,
   "metadata": {},
   "outputs": [
    {
     "name": "stdout",
     "output_type": "stream",
     "text": [
      "AdaBoostRegressor's MAE is 17.11621959987934\n"
     ]
    }
   ],
   "source": [
    "\n",
    "adbr = AdaBoostRegressor()\n",
    "adbr_mae = model_builder(adbr)\n",
    "\n",
    "print(\"AdaBoostRegressor's MAE is \" + str(adbr_mae) )"
   ]
  },
  {
   "cell_type": "code",
   "execution_count": 77,
   "metadata": {},
   "outputs": [
    {
     "data": {
      "text/html": [
       "<div>\n",
       "<style>\n",
       "    .dataframe thead tr:only-child th {\n",
       "        text-align: right;\n",
       "    }\n",
       "\n",
       "    .dataframe thead th {\n",
       "        text-align: left;\n",
       "    }\n",
       "\n",
       "    .dataframe tbody tr th {\n",
       "        vertical-align: top;\n",
       "    }\n",
       "</style>\n",
       "<table border=\"1\" class=\"dataframe\">\n",
       "  <thead>\n",
       "    <tr style=\"text-align: right;\">\n",
       "      <th></th>\n",
       "      <th>MAE</th>\n",
       "      <th>model</th>\n",
       "    </tr>\n",
       "  </thead>\n",
       "  <tbody>\n",
       "    <tr>\n",
       "      <th>0</th>\n",
       "      <td>0    13.82972\n",
       "dtype: float64</td>\n",
       "      <td>LinearRegression</td>\n",
       "    </tr>\n",
       "    <tr>\n",
       "      <th>1</th>\n",
       "      <td>25.2091</td>\n",
       "      <td>SVR</td>\n",
       "    </tr>\n",
       "    <tr>\n",
       "      <th>2</th>\n",
       "      <td>9.84469</td>\n",
       "      <td>RandomForestRegressor</td>\n",
       "    </tr>\n",
       "    <tr>\n",
       "      <th>3</th>\n",
       "      <td>9.74816</td>\n",
       "      <td>GradientBoostingRegressor</td>\n",
       "    </tr>\n",
       "    <tr>\n",
       "      <th>4</th>\n",
       "      <td>22.5433</td>\n",
       "      <td>KNeighborsRegressor</td>\n",
       "    </tr>\n",
       "    <tr>\n",
       "      <th>5</th>\n",
       "      <td>13.9122</td>\n",
       "      <td>Lasso</td>\n",
       "    </tr>\n",
       "    <tr>\n",
       "      <th>6</th>\n",
       "      <td>17.1162</td>\n",
       "      <td>AdaBoostRegressor</td>\n",
       "    </tr>\n",
       "  </tbody>\n",
       "</table>\n",
       "</div>"
      ],
      "text/plain": [
       "                            MAE                      model\n",
       "0  0    13.82972\n",
       "dtype: float64           LinearRegression\n",
       "1                       25.2091                        SVR\n",
       "2                       9.84469      RandomForestRegressor\n",
       "3                       9.74816  GradientBoostingRegressor\n",
       "4                       22.5433        KNeighborsRegressor\n",
       "5                       13.9122                      Lasso\n",
       "6                       17.1162          AdaBoostRegressor"
      ]
     },
     "execution_count": 77,
     "metadata": {},
     "output_type": "execute_result"
    }
   ],
   "source": [
    "MAE_models"
   ]
  },
  {
   "cell_type": "code",
   "execution_count": 79,
   "metadata": {},
   "outputs": [
    {
     "data": {
      "text/plain": [
       "<matplotlib.axes._subplots.AxesSubplot at 0x164d9705cc0>"
      ]
     },
     "execution_count": 79,
     "metadata": {},
     "output_type": "execute_result"
    },
    {
     "data": {
      "image/png": "[encoded data removed]",
      "text/plain": [
       "<matplotlib.figure.Figure at 0x164d972cf28>"
      ]
     },
     "metadata": {},
     "output_type": "display_data"
    }
   ],
   "source": [
    "MAE_models = pd.DataFrame({'model': ['LinearRegression','SVR', 'RandomForestRegressor', 'GradientBoostingRegressor', 'KNeighborsRegressor', 'Lasso', 'AdaBoostRegressor'],\n",
    "                          'MAE': [lr_mae, svm_mae, random_forest_mae, gradient_boosted_mae, knn_mae, ls_mae, adbr_mae]})\n",
    "MAE_models.sort_values('MAE', ascending = False).plot(x = 'model', y = 'MAE',\n",
    "                                                     kind = 'barh')"
   ]
  },
  {
   "cell_type": "markdown",
   "metadata": {},
   "source": [
    "From the above model results, we can come to following conclusions:\n",
    "\n",
    "- As Lasso results are higher then linear regression we can eliminate ridge, elastic net models.\n",
    "- SVM and KNN are doing worse than baseline. so it will be best not to choose these models.\n",
    "- By far we can see random forest and gradient boosting are the models with lowest MAE. So we will start tunning these models."
   ]
  },
  {
   "cell_type": "markdown",
   "metadata": {},
   "source": [
    "## Model Optimization"
   ]
  },
  {
   "cell_type": "code",
   "execution_count": null,
   "metadata": {
    "collapsed": true
   },
   "outputs": [],
   "source": []
  }
 ],
 "metadata": {
  "kernelspec": {
   "display_name": "Python 3",
   "language": "python",
   "name": "python3"
  },
  "language_info": {
   "codemirror_mode": {
    "name": "ipython",
    "version": 3
   },
   "file_extension": ".py",
   "mimetype": "text/x-python",
   "name": "python",
   "nbconvert_exporter": "python",
   "pygments_lexer": "ipython3",
   "version": "3.6.3"
  }
 },
 "nbformat": 4,
 "nbformat_minor": 2
}
